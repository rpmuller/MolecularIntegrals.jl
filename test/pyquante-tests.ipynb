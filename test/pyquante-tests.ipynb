{
 "cells": [
  {
   "cell_type": "markdown",
   "id": "e780176a",
   "metadata": {},
   "source": [
    "# Generate pyquante test results\n",
    "\n",
    "You can regenerate these by installing pyquante via:\n",
    "\n",
    "    % conda install -c rpmuller pyquante2"
   ]
  },
  {
   "cell_type": "code",
   "execution_count": 9,
   "id": "2cc322a2",
   "metadata": {},
   "outputs": [],
   "source": [
    "from pyquante2 import pgbf\n",
    "from pyquante2.ints.two import ERI"
   ]
  },
  {
   "cell_type": "code",
   "execution_count": 10,
   "id": "b45545cf",
   "metadata": {},
   "outputs": [],
   "source": [
    "s = pgbf(1)"
   ]
  },
  {
   "cell_type": "code",
   "execution_count": 11,
   "id": "f5b6e155",
   "metadata": {},
   "outputs": [
    {
     "data": {
      "text/plain": [
       "1.1283791670951362"
      ]
     },
     "execution_count": 11,
     "metadata": {},
     "output_type": "execute_result"
    }
   ],
   "source": [
    "ERI(s,s,s,s)"
   ]
  },
  {
   "cell_type": "code",
   "execution_count": 15,
   "id": "2f956735",
   "metadata": {},
   "outputs": [
    {
     "name": "stdout",
     "output_type": "stream",
     "text": [
      "0.0 1.1283791670951362\n",
      "1.0 0.8427007900292186\n",
      "2.0 0.49766113257563993\n",
      "3.0 0.33332596983445223\n",
      "4.0 0.2499999961456855\n",
      "5.0 0.1999999999996925\n",
      "10 0.09999999999999999\n"
     ]
    }
   ],
   "source": [
    "for r in [0.0,1.0,2.0,3.0,4.0,5.0,10]:\n",
    "    s2 = pgbf(1,(0,0,r))\n",
    "    print(r,ERI(s,s,s2,s2))"
   ]
  },
  {
   "cell_type": "code",
   "execution_count": 19,
   "id": "fc19d625",
   "metadata": {},
   "outputs": [
    {
     "name": "stdout",
     "output_type": "stream",
     "text": [
      "0.9403159725793302 0.9403159725793302 0.9403159725793302\n",
      "0.0 0.0 0.0\n"
     ]
    }
   ],
   "source": [
    "px = pgbf(1.0,powers=(1,0,0))\n",
    "py = pgbf(1.0,powers=(0,1,0))\n",
    "pz = pgbf(1.0,powers=(0,0,1))\n",
    "print(ERI(s,s,px,px),ERI(s,s,py,py),ERI(s,s,pz,pz))\n",
    "print(ERI(s,s,s,px),ERI(s,s,s,py),ERI(s,s,s,pz))"
   ]
  },
  {
   "cell_type": "code",
   "execution_count": 17,
   "id": "8fb44be8",
   "metadata": {},
   "outputs": [
    {
     "data": {
      "text/plain": [
       "0.7127054703549901"
      ]
     },
     "execution_count": 17,
     "metadata": {},
     "output_type": "execute_result"
    }
   ],
   "source": [
    "s.norm"
   ]
  },
  {
   "cell_type": "code",
   "execution_count": 18,
   "id": "d7ffe415",
   "metadata": {},
   "outputs": [
    {
     "data": {
      "text/plain": [
       "1.4254109407099802"
      ]
     },
     "execution_count": 18,
     "metadata": {},
     "output_type": "execute_result"
    }
   ],
   "source": [
    "px.norm"
   ]
  },
  {
   "cell_type": "code",
   "execution_count": 20,
   "id": "61f738ab",
   "metadata": {},
   "outputs": [],
   "source": [
    "from pyquante2.utils import Fgamma"
   ]
  },
  {
   "cell_type": "code",
   "execution_count": 22,
   "id": "05fea892",
   "metadata": {},
   "outputs": [
    {
     "data": {
      "text/plain": [
       "0.7468241302242048"
      ]
     },
     "execution_count": 22,
     "metadata": {},
     "output_type": "execute_result"
    }
   ],
   "source": [
    "Fgamma(0,1)"
   ]
  },
  {
   "cell_type": "code",
   "execution_count": 23,
   "id": "21b27136",
   "metadata": {},
   "outputs": [
    {
     "data": {
      "text/plain": [
       "0.33333333333313364"
      ]
     },
     "execution_count": 23,
     "metadata": {},
     "output_type": "execute_result"
    }
   ],
   "source": [
    "Fgamma(1,0)"
   ]
  },
  {
   "cell_type": "code",
   "execution_count": null,
   "id": "3c3e146c",
   "metadata": {},
   "outputs": [],
   "source": []
  }
 ],
 "metadata": {
  "kernelspec": {
   "display_name": "Python 3",
   "language": "python",
   "name": "python3"
  },
  "language_info": {
   "codemirror_mode": {
    "name": "ipython",
    "version": 3
   },
   "file_extension": ".py",
   "mimetype": "text/x-python",
   "name": "python",
   "nbconvert_exporter": "python",
   "pygments_lexer": "ipython3",
   "version": "3.7.10"
  }
 },
 "nbformat": 4,
 "nbformat_minor": 5
}
