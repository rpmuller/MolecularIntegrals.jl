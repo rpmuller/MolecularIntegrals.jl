{
 "metadata": {
  "language_info": {
   "codemirror_mode": {
    "name": "ipython",
    "version": 3
   },
   "file_extension": ".py",
   "mimetype": "text/x-python",
   "name": "python",
   "nbconvert_exporter": "python",
   "pygments_lexer": "ipython3",
   "version": 3
  },
  "orig_nbformat": 2,
  "kernelspec": {
   "name": "julia-1.6",
   "display_name": "Julia 1.6.0"
  }
 },
 "nbformat": 4,
 "nbformat_minor": 2,
 "cells": [
  {
   "source": [
    "# Standalone Quantum Chemistry Molecular Integrals\n",
    "\n",
    "The following file is the time-intensive part of the [MolecularIntegrals.jl]()\n",
    "package. This is called thousands of times in a typical calculation, and every\n",
    "bit of speed is important here.\n",
    "\n",
    "I'd be grateful for any help people could give me on speeding things up. Thus far,\n",
    "I have not had any luck speeding this up further using macros like `@simd`\n",
    "or `@turbo`. Often one of these macros speeds up the timing of the `vrr!` routine, but slows down the overall code for [reasons I don't understand](https://discourse.julialang.org/t/turbo-speeds-routine-slows-down-everything-else/62163).\n",
    "\n",
    "I've read through and checked everything in the [Julia Performance Tips](https://docs.julialang.org/en/v1/manual/performance-tips/) page and @ChrisRackauckas [7 Julia Gotchas and How to Handle Them](https://www.stochasticlifestyle.com/7-julia-gotchas-handle/) blog post.\n",
    "\n",
    "I believe there are still performance gains to be had, because the head to head timing of my code against those C/C++ libraries shows that the Julia code is still 5-10 times slower.\n",
    "\n",
    "The best algorithms in common use make use of recurrence relations to generate integrals for higher angular momentum basis functions in terms of the lower angular momentum integrals, which are ultimate worked on in terms of incomplete error functions. These methods involve a certain amount of irregular memory access.\n"
   ],
   "cell_type": "markdown",
   "metadata": {}
  },
  {
   "source": [
    "## Utility functions"
   ],
   "cell_type": "markdown",
   "metadata": {}
  },
  {
   "cell_type": "code",
   "execution_count": null,
   "metadata": {},
   "outputs": [],
   "source": [
    "@inline factorial2(n::Int64) = prod(n:-2:1); # double factorial !!\n",
    "@inline dist2(dxyz) = dot(dxyz,dxyz);\n",
    "@inline dist2(xyz1,xyz2) = dist2(xyz1-xyz2);\n",
    "\n",
    "\"gammainc - return the lower incomplete gamma function\"\n",
    "@inline gammainc(a,x) = gamma(a)*gamma_inc(a,x)[1];"
   ]
  },
  {
   "cell_type": "code",
   "execution_count": null,
   "metadata": {},
   "outputs": [],
   "source": [
    "function boys_array_gamma(mmax,T,SMALL=1e-18)\n",
    "    T = max(T,SMALL) # needs underflow protection because of inverse\n",
    "    boys_array = zeros(Float64,mmax)\n",
    "    ooT = 1/T\n",
    "    denom = sqrt(ooT)\n",
    "    boys_array[1] = 0.5*denom*gammainc(0.5,T) \n",
    "    for m in 2:mmax\n",
    "        denom *= ooT\n",
    "        # Could speed this up more by expressing gamma(m) in terms of gamma(m±1)\n",
    "        boys_array[m] = 0.5*denom*gammainc(m-0.5,T) \n",
    "    end\n",
    "    return boys_array\n",
    "end;"
   ]
  }
 ]
}